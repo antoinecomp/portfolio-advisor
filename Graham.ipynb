{
 "cells": [
  {
   "cell_type": "code",
   "execution_count": 2,
   "metadata": {},
   "outputs": [],
   "source": [
    "from os.path import abspath, dirname, join\n",
    "\n",
    "import plotly.graph_objects as go\n",
    "import plotly.express as px\n",
    "\n",
    "import pandas as pd\n",
    "\n",
    "import plotly.express as px\n",
    "import numpy as np\n",
    "\n",
    "# C:\\Users\\antoi\\Documents\\Programming\\portfolio-advisor\\dashboard\n",
    "\n",
    "data_path = 'dashboard/data/tickers_september_2017.xlsx'"
   ]
  },
  {
   "cell_type": "code",
   "execution_count": null,
   "metadata": {},
   "outputs": [],
   "source": [
    "def get_tickers():\n",
    "    with open(data_path, 'rb') as fp:\n",
    "        stock_df = pd.read_excel(fp)\n",
    "        stock_df = stock_df.dropna()\n",
    "        # stock_df = stock_df.where(pd.notnull(stock_df), None)\n",
    "        return stock_df\n",
    "\n",
    "\n",
    "df = get_tickers()"
   ]
  },
  {
   "cell_type": "code",
   "execution_count": null,
   "metadata": {},
   "outputs": [],
   "source": [
    "df.head())"
   ]
  }
 ],
 "metadata": {
  "kernelspec": {
   "display_name": "Python 3",
   "language": "python",
   "name": "python3"
  },
  "language_info": {
   "codemirror_mode": {
    "name": "ipython",
    "version": 3
   },
   "file_extension": ".py",
   "mimetype": "text/x-python",
   "name": "python",
   "nbconvert_exporter": "python",
   "pygments_lexer": "ipython3",
   "version": "3.7.3"
  }
 },
 "nbformat": 4,
 "nbformat_minor": 2
}
