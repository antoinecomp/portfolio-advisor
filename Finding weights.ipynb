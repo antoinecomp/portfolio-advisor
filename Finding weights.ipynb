{
 "cells": [
  {
   "cell_type": "code",
   "execution_count": 25,
   "metadata": {},
   "outputs": [],
   "source": [
    "import pandas as pd\n",
    "import random"
   ]
  },
  {
   "cell_type": "code",
   "execution_count": 2,
   "metadata": {},
   "outputs": [],
   "source": [
    "df = pd.read_csv(\"stocks.csv\")"
   ]
  },
  {
   "cell_type": "code",
   "execution_count": 9,
   "metadata": {},
   "outputs": [],
   "source": [
    "df = df.iloc[:,1:]"
   ]
  },
  {
   "cell_type": "code",
   "execution_count": 10,
   "metadata": {},
   "outputs": [],
   "source": [
    "returns = df.pct_change()\n",
    "mean_returns = returns.mean()\n",
    "cov_matrix = returns.cov()\n",
    "num_portfolios = 1500000\n",
    "risk_free_rate = 0.0178"
   ]
  },
  {
   "cell_type": "markdown",
   "metadata": {},
   "source": [
    "Getting weights with given, fixed, portfolio standard deviations $\\sigma_p$. Indeed, one can fix a grid of volatilities $σ_{p_1},...σ_{p_n}$, then for each $σ_{p_i}$, maximize expected returns with the constraint that the volatility is no larger than $σ_{p_i}$, to get $μ_{p_i}$. Then $(σ_{p_i},μ_{p_i})$ are $n$ points on the efficient frontier. "
   ]
  },
  {
   "cell_type": "markdown",
   "metadata": {},
   "source": [
    "$$\\begin{cases}\n",
    "\\begin{align}\n",
    "\\max returns &= \\alpha + \\beta_1 stock_1 + \\beta_2 stock_2 + ... + \\varepsilon\\\\\n",
    "&\\varepsilon = \\sqrt{\\beta^2\\Sigma^2+2\\beta Cov\\beta^T} - \\sigma_p\\\\\n",
    "&\\forall i, \\beta_i \\geq 0\n",
    "\\end{align}\n",
    "\\end{cases}$$"
   ]
  },
  {
   "cell_type": "markdown",
   "metadata": {},
   "source": [
    "We start with $\\sigma_p= 0.2$ "
   ]
  },
  {
   "cell_type": "markdown",
   "metadata": {},
   "source": [
    "We will chose $\\beta$ to minimize the sum of squared errors. Finding an exact solution is not easy to do by hand, which means we'll need to use graduent descent. We'll start by creating an error function to minimize. For each stochastic graduent descent we'll just want the squared error corresponding to a single prediction."
   ]
  },
  {
   "cell_type": "code",
   "execution_count": 17,
   "metadata": {},
   "outputs": [],
   "source": [
    "def error(x_i, sigma_p, beta):\n",
    "    return sigma_p - predict(beta)"
   ]
  },
  {
   "cell_type": "code",
   "execution_count": 16,
   "metadata": {},
   "outputs": [],
   "source": [
    "def squarred_error(x_i, sigma_p, beta):\n",
    "    return error(x_i,sigma_p, beta)**2"
   ]
  },
  {
   "cell_type": "code",
   "execution_count": 19,
   "metadata": {},
   "outputs": [],
   "source": [
    "def squared_error_gradient(x_i, sigma_p, beta):\n",
    "    \"\"\"the gradient (with respect to beta)\n",
    "    corresponding to the ith squared error term\"\"\"\n",
    "    return [-2*x_ij * error(x_i, sigma_p, beta)\n",
    "           for x_ij in x_i]"
   ]
  },
  {
   "cell_type": "markdown",
   "metadata": {},
   "source": [
    "At this point we are ready to find the optimal beta using stochastic gradient decent:"
   ]
  },
  {
   "cell_type": "code",
   "execution_count": 21,
   "metadata": {},
   "outputs": [],
   "source": [
    "def estimate_beta(x,y):\n",
    "    beta_initial = [random.random() for x_i in x[0]]\n",
    "    return minimize_stochastic(squared_error,\n",
    "                              squared_error_gradient,\n",
    "                              x,y,\n",
    "                              beta_initial,\n",
    "                              0.001)"
   ]
  },
  {
   "cell_type": "code",
   "execution_count": 26,
   "metadata": {},
   "outputs": [
    {
     "ename": "NameError",
     "evalue": "name 'daily_minutes_good' is not defined",
     "output_type": "error",
     "traceback": [
      "\u001b[1;31m---------------------------------------------------------------------------\u001b[0m",
      "\u001b[1;31mNameError\u001b[0m                                 Traceback (most recent call last)",
      "\u001b[1;32m<ipython-input-26-fc5e0e86ef22>\u001b[0m in \u001b[0;36m<module>\u001b[1;34m\u001b[0m\n\u001b[0;32m      1\u001b[0m \u001b[0mrandom\u001b[0m\u001b[1;33m.\u001b[0m\u001b[0mseed\u001b[0m\u001b[1;33m(\u001b[0m\u001b[1;36m0\u001b[0m\u001b[1;33m)\u001b[0m\u001b[1;33m\u001b[0m\u001b[1;33m\u001b[0m\u001b[0m\n\u001b[0;32m      2\u001b[0m \u001b[0mx\u001b[0m \u001b[1;33m=\u001b[0m \u001b[0mreturns\u001b[0m\u001b[1;33m\u001b[0m\u001b[1;33m\u001b[0m\u001b[0m\n\u001b[1;32m----> 3\u001b[1;33m \u001b[0mbeta\u001b[0m \u001b[1;33m=\u001b[0m \u001b[0mestimate_beta\u001b[0m\u001b[1;33m(\u001b[0m\u001b[0mx\u001b[0m\u001b[1;33m,\u001b[0m \u001b[0mdaily_minutes_good\u001b[0m\u001b[1;33m)\u001b[0m\u001b[1;33m\u001b[0m\u001b[1;33m\u001b[0m\u001b[0m\n\u001b[0m",
      "\u001b[1;31mNameError\u001b[0m: name 'daily_minutes_good' is not defined"
     ]
    }
   ],
   "source": [
    "random.seed(0)\n",
    "x = returns\n",
    "beta = estimate_beta(x, daily_minutes_good)"
   ]
  },
  {
   "cell_type": "markdown",
   "metadata": {},
   "source": [
    "The following code generates points directly on the Pareto frontier. It uses the fact that the minimizer of a quadratic objective under linear constraints can be obtained by solving a linear system. The frontier changes shape if you uncomment the lines that add the risk-free asset."
   ]
  },
  {
   "cell_type": "code",
   "execution_count": 86,
   "metadata": {},
   "outputs": [
    {
     "data": {
      "image/png": "[encoded data removed]",
      "text/plain": [
       "<Figure size 432x288 with 1 Axes>"
      ]
     },
     "metadata": {
      "needs_background": "light"
     },
     "output_type": "display_data"
    }
   ],
   "source": [
    "import pandas as pd\n",
    "import numpy as np\n",
    "import matplotlib.pyplot as plt\n",
    "\n",
    "# read data\n",
    "stock_prices = pd.read_csv('stocks.csv', index_col=0)\n",
    "returns = stock_prices.pct_change()\n",
    "mu = 252 * returns.mean().values\n",
    "sigma = 252 * returns.cov().values\n",
    "n = mu.shape[0]\n",
    "\n",
    "# add risk free asset to mu/sigma\n",
    "risk_free_rate = 0.0178\n",
    "z = np.zeros((n,1))\n",
    "# mu = np.block([mu, risk_free_rate])\n",
    "# sigma = np.block([[sigma, z], [z.T, 0]])\n",
    "# n = mu.shape[0]\n",
    "\n",
    "# solve minimize w'∑w subject to μ'w = r, e'w=1 for varying r\n",
    "mu = np.expand_dims(mu, axis=1)\n",
    "e = np.ones((n,1))\n",
    "returns = np.linspace(risk_free_rate, np.max(mu))\n",
    "volatilities = []\n",
    "for r in returns:\n",
    "    A = np.block([[2*sigma, mu, e], [mu.T, 0, 0], [e.T, 0, 0]])\n",
    "    b = np.zeros(n+2)\n",
    "    b[n] = r\n",
    "    b[n+1] = 1\n",
    "    w = np.linalg.solve(A, b)[:n]\n",
    "\n",
    "    volatility = np.sqrt( w.T @ sigma @ w )\n",
    "    volatilities.append(volatility)\n",
    "\n",
    "# plot results\n",
    "plt.plot(volatilities, returns)\n",
    "plt.xlabel('Volatility')\n",
    "plt.ylabel('Return')\n",
    "plt.show()"
   ]
  },
  {
   "cell_type": "code",
   "execution_count": 79,
   "metadata": {},
   "outputs": [
    {
     "data": {
      "text/plain": [
       "array([[0.12808235, 0.12806968, 0.12817238, 0.12839017, 0.12872246,\n",
       "        0.12916837, 0.12972672, 0.13039608, 0.13117474, 0.13206078,\n",
       "        0.13305204, 0.13414619, 0.13534074, 0.13663305, 0.13802038,\n",
       "        0.1394999 , 0.14106869, 0.14272383, 0.14446233, 0.14628124,\n",
       "        0.14817758, 0.15014843, 0.15219089, 0.15430211, 0.15647931,\n",
       "        0.15871978, 0.16102088, 0.16338004, 0.16579479, 0.16826274,\n",
       "        0.17078156, 0.17334906, 0.1759631 , 0.17862163, 0.18132269,\n",
       "        0.18406443, 0.18684504, 0.18966281, 0.19251612, 0.1954034 ,\n",
       "        0.19832318, 0.20127404, 0.20425462, 0.20726366, 0.21029992,\n",
       "        0.21336226, 0.21644954, 0.21956074, 0.22269484, 0.22585089],\n",
       "       [0.0178    , 0.03035624, 0.04291247, 0.05546871, 0.06802495,\n",
       "        0.08058118, 0.09313742, 0.10569365, 0.11824989, 0.13080613,\n",
       "        0.14336236, 0.1559186 , 0.16847484, 0.18103107, 0.19358731,\n",
       "        0.20614355, 0.21869978, 0.23125602, 0.24381225, 0.25636849,\n",
       "        0.26892473, 0.28148096, 0.2940372 , 0.30659344, 0.31914967,\n",
       "        0.33170591, 0.34426215, 0.35681838, 0.36937462, 0.38193086,\n",
       "        0.39448709, 0.40704333, 0.41959956, 0.4321558 , 0.44471204,\n",
       "        0.45726827, 0.46982451, 0.48238075, 0.49493698, 0.50749322,\n",
       "        0.52004946, 0.53260569, 0.54516193, 0.55771816, 0.5702744 ,\n",
       "        0.58283064, 0.59538687, 0.60794311, 0.62049935, 0.63305558],\n",
       "       [0.        , 0.09804222, 0.19592733, 0.29339248, 0.39018013,\n",
       "        0.48604147, 0.5807394 , 0.67405135, 0.76577158, 0.85571302,\n",
       "        0.94370869, 1.02961256, 1.11329995, 1.19466756, 1.27363298,\n",
       "        1.35013395, 1.42412734, 1.49558782, 1.56450645, 1.63088918,\n",
       "        1.69475519, 1.75613534, 1.81507059, 1.87161044, 1.92581159,\n",
       "        1.97773649, 2.02745223, 2.07502931, 2.12054077, 2.16406119,\n",
       "        2.20566602, 2.24543085, 2.28343087, 2.31974039, 2.35443246,\n",
       "        2.38757852, 2.41924815, 2.44950892, 2.47842616, 2.50606291,\n",
       "        2.53247985, 2.55773523, 2.58188491, 2.6049823 , 2.62707845,\n",
       "        2.64822209, 2.66845963, 2.6878353 , 2.70639114, 2.72416715]])"
      ]
     },
     "execution_count": 79,
     "metadata": {},
     "output_type": "execute_result"
    }
   ],
   "source": [
    "results"
   ]
  },
  {
   "cell_type": "code",
   "execution_count": 83,
   "metadata": {},
   "outputs": [],
   "source": [
    "def efficient_portfolios(returns, risk_free_rate, sigma, mu, e):\n",
    "    weights_record = []\n",
    "    volatilities = []\n",
    "    results = np.zeros((3,len(returns)))\n",
    "    i = 0\n",
    "    for portfolio_return in returns:\n",
    "        A = np.block([[2*sigma, mu, e], [mu.T, 0, 0], [e.T, 0, 0]])\n",
    "        b = np.zeros(n+2)\n",
    "        b[n] = portfolio_return\n",
    "        b[n+1] = 1\n",
    "        w = np.linalg.solve(A, b)[:n]\n",
    "        weights_record.append(w)\n",
    "        portfolio_std_dev = np.sqrt( w.T @ sigma @ w )\n",
    "        volatilities.append(portfolio_std_dev)\n",
    "        results[0,i] = portfolio_std_dev\n",
    "        results[1,i] = portfolio_return\n",
    "        results[2,i] = (portfolio_return - risk_free_rate) / portfolio_std_dev\n",
    "        i+=1\n",
    "    return results, weights_record, volatilities\n",
    "\n",
    "def display_simulated_ef_with_random(mean_returns, risk_free_rate, sigma, mu, e, df):\n",
    "    results, weights, volatilities = efficient_portfolios(mean_returns,risk_free_rate, sigma, mu, e)\n",
    "    max_sharpe_idx = np.argmax(results[2])\n",
    "    sdp, rp = results[0,max_sharpe_idx], results[1,max_sharpe_idx]\n",
    "    max_sharpe_allocation = pd.DataFrame(weights[max_sharpe_idx],index=df.columns,columns=['allocation'])\n",
    "    max_sharpe_allocation.allocation = [round(i*100,2)for i in max_sharpe_allocation.allocation]\n",
    "    max_sharpe_allocation = max_sharpe_allocation.T\n",
    "    \n",
    "    min_vol_idx = np.argmin(results[0])\n",
    "    sdp_min, rp_min = results[0,min_vol_idx], results[1,min_vol_idx]\n",
    "    min_vol_allocation = pd.DataFrame(weights[min_vol_idx],index=df.columns,columns=['allocation'])\n",
    "    min_vol_allocation.allocation = [round(i*100,2)for i in min_vol_allocation.allocation]\n",
    "    min_vol_allocation = min_vol_allocation.T\n",
    "    \n",
    "    print(\"-\"*80)\n",
    "    print(\"Maximum Sharpe Ratio Portfolio Allocation\\n\")\n",
    "    print(\"Annualised Return:\", round(rp,2))\n",
    "    print(\"Annualised Volatility:\", round(sdp,2))\n",
    "    print(\"\\n\")\n",
    "    print(max_sharpe_allocation)\n",
    "    print(\"-\"*80)\n",
    "    print(\"Minimum Volatility Portfolio Allocation\\n\")\n",
    "    print(\"Annualised Return:\", round(rp_min,2))\n",
    "    print(\"Annualised Volatility:\", round(sdp_min,2))\n",
    "    print(\"\\n\")\n",
    "    print(min_vol_allocation)\n",
    "    \n",
    "    plt.figure(figsize=(10, 7))\n",
    "    plt.scatter(results[0,:],results[1,:],c=results[2,:],cmap='YlGnBu', marker='o', s=10, alpha=0.3)\n",
    "    plt.colorbar()\n",
    "    plt.scatter(sdp,rp,marker='*',color='r',s=500, label='Maximum Sharpe ratio')\n",
    "    plt.scatter(sdp_min,rp_min,marker='*',color='g',s=500, label='Minimum volatility')\n",
    "    plt.title('Simulated Portfolio Optimization based on Efficient Frontier')\n",
    "    plt.xlabel('annualised volatility')\n",
    "    plt.ylabel('annualised returns')\n",
    "    plt.legend(labelspacing=0.8)\n",
    "    \n",
    "    return max_sharpe_allocation, min_vol_allocation"
   ]
  },
  {
   "cell_type": "code",
   "execution_count": 84,
   "metadata": {},
   "outputs": [
    {
     "name": "stdout",
     "output_type": "stream",
     "text": [
      "--------------------------------------------------------------------------------\n",
      "Maximum Sharpe Ratio Portfolio Allocation\n",
      "\n",
      "Annualised Return: 0.63\n",
      "Annualised Volatility: 0.23\n",
      "\n",
      "\n",
      "               DD  ADBE  ATVI   APD    NVS      A   ADI    AVB    AYI   AAN  \\\n",
      "allocation -19.33  0.03 -0.32  29.3  12.65 -14.57  2.85 -25.28 -13.17  2.77   \n",
      "\n",
      "            ...   SWKS    NOV  KMT   MDT   RIO   PSA   STE  POWI  VALE   TX  \n",
      "allocation  ... -15.61 -10.08 -7.2 -3.16  7.57 -9.39  7.93  5.13  1.07  8.4  \n",
      "\n",
      "[1 rows x 51 columns]\n",
      "--------------------------------------------------------------------------------\n",
      "Minimum Volatility Portfolio Allocation\n",
      "\n",
      "Annualised Return: 0.03\n",
      "Annualised Volatility: 0.13\n",
      "\n",
      "\n",
      "             DD  ADBE  ATVI   APD   NVS     A   ADI   AVB   AYI   AAN  ...  \\\n",
      "allocation -0.6 -7.11  5.36  3.81  22.9 -3.69  7.37 -1.27 -1.13 -0.16  ...   \n",
      "\n",
      "            SWKS   NOV   KMT   MDT   RIO    PSA   STE  POWI  VALE    TX  \n",
      "allocation  -6.4 -0.25 -9.24  6.15  4.41  19.86 -1.31 -0.23 -2.99  6.05  \n",
      "\n",
      "[1 rows x 51 columns]\n"
     ]
    },
    {
     "data": {
      "image/png": "[encoded data removed]",
      "text/plain": [
       "<Figure size 720x504 with 2 Axes>"
      ]
     },
     "metadata": {
      "needs_background": "light"
     },
     "output_type": "display_data"
    }
   ],
   "source": [
    "# returns = df.pct_change()\n",
    "# mean_returns = returns.mean()\n",
    "# cov_matrix = returns.cov()\n",
    "# num_portfolios = 25000\n",
    "# risk_free_rate = 0.0178\n",
    "\n",
    "\n",
    "stock_prices = pd.read_csv('stocks.csv', index_col=0)\n",
    "returns = stock_prices.pct_change()\n",
    "mu = 252 * returns.mean().values\n",
    "sigma = 252 * returns.cov().values\n",
    "n = mu.shape[0]\n",
    "\n",
    "# add risk free asset to mu/sigma\n",
    "risk_free_rate = 0.0178\n",
    "z = np.zeros((n,1))\n",
    "#mu = np.block([mu, risk_free_rate])\n",
    "#sigma = np.block([[sigma, z], [z.T, 0]])\n",
    "#n = mu.shape[0]\n",
    "\n",
    "# solve minimize w'∑w subject to μ'w = r, e'w=1 for varying r\n",
    "mu = np.expand_dims(mu, axis=1)\n",
    "e = np.ones((n,1))\n",
    "returns = np.linspace(risk_free_rate, np.max(mu))\n",
    "\n",
    "\n",
    "max_sharpe_al, min_vol_al = display_simulated_ef_with_random(returns, risk_free_rate, sigma, mu, e, stock_prices)"
   ]
  },
  {
   "cell_type": "code",
   "execution_count": null,
   "metadata": {},
   "outputs": [],
   "source": []
  },
  {
   "cell_type": "code",
   "execution_count": null,
   "metadata": {},
   "outputs": [],
   "source": []
  }
 ],
 "metadata": {
  "kernelspec": {
   "display_name": "Python 3",
   "language": "python",
   "name": "python3"
  },
  "language_info": {
   "codemirror_mode": {
    "name": "ipython",
    "version": 3
   },
   "file_extension": ".py",
   "mimetype": "text/x-python",
   "name": "python",
   "nbconvert_exporter": "python",
   "pygments_lexer": "ipython3",
   "version": "3.7.3"
  }
 },
 "nbformat": 4,
 "nbformat_minor": 4
}
